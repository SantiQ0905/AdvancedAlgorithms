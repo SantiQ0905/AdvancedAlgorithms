{
  "cells": [
    {
      "cell_type": "markdown",
      "metadata": {},
      "source": [
        "# Run All — Brute Force Algorithms (Knapsack, Closest Pair, String Matching)\n",
        "\n",
        "This notebook is designed to run your repository **both in Binder and in Colab**.\n",
        "\n",
        "- **Binder**: it already has your repo files; just run all cells.\n",
        "- **Colab**: the first cell detects Colab and **clones your GitHub repo** automatically (no Drive mount needed)."
      ]
    },
    {
      "cell_type": "code",
      "metadata": {
        "editable": true,
        "deletable": true
      },
      "execution_count": null,
      "outputs": [],
      "source": [
        "import os, sys, pathlib, subprocess, json\n",
        "\n",
        "# >>>>>>>>>>>>>>>>>>>>>>>>>>>>>>>>>>>>>>>>>>>>>>>>>>>>>>>>>>>>>>>>>>>>>>>>>>\n",
        "# EDIT THIS to your public repo URL (HTTPS). Example:\n",
        "REPO_URL = \"https://github.com/SantiQ0905/AdvancedAlgorithms.git\"\n",
        "REPO_NAME = REPO_URL.rsplit(\"/\", 1)[-1].replace(\".git\",\"\")\n",
        "# <<<<<<<<<<<<<<<<<<<<<<<<<<<<<<<<<<<<<<<<<<<<<<<<<<<<<<<<<<<<<<<<<<<<<<<<<<\n",
        "\n",
        "def in_colab():\n",
        "    try:\n",
        "        import google.colab  # type: ignore\n",
        "        return True\n",
        "    except Exception:\n",
        "        return False\n",
        "\n",
        "if in_colab():\n",
        "    print(\"Detected Colab; cloning fresh copy of the repo...\")\n",
        "    # Clean old checkout if present\n",
        "    subprocess.run([\"rm\", \"-rf\", REPO_NAME], check=False)\n",
        "    subprocess.run([\"git\", \"clone\", REPO_URL], check=True)\n",
        "    os.chdir(REPO_NAME)\n",
        "else:\n",
        "    print(\"Not in Colab (likely Binder or local). Assuming repo is present.\")\n",
        "    # Try to detect if we're already in the repo root by checking expected folders\n",
        "    here = pathlib.Path().resolve()\n",
        "    expected = here / \"BruteForce\"\n",
        "    if not expected.exists():\n",
        "        print(\"Warning: 'BruteForce' folder not found in current directory.\")\n",
        "        print(\"Current path:\", here)\n",
        "        print(\"Please `cd` into the repository root and re-run this cell.\")\n",
        "    else:\n",
        "        print(\"Repository root:\", here)"
      ]
    },
    {
      "cell_type": "code",
      "metadata": {
        "editable": true,
        "deletable": true
      },
      "execution_count": null,
      "outputs": [],
      "source": [
        "# Show a compact tree of what we'll run\n",
        "print(\"Python version:\")\n",
        "!python --version\n",
        "\n",
        "print(\"\\nProject tree (depth ≤ 3 under BruteForce):\")\n",
        "!bash -lc 'find BruteForce -maxdepth 3 -type f | sort'"
      ]
    },
    {
      "cell_type": "markdown",
      "metadata": {},
      "source": [
        "## Run: 0/1 Knapsack (reads ./BruteForce/Knapsack/TestFiles/*.txt)"
      ]
    },
    {
      "cell_type": "code",
      "metadata": {
        "editable": true,
        "deletable": true
      },
      "execution_count": null,
      "outputs": [],
      "source": [
        "%cd BruteForce/Knapsack\n",
        "!python Knapsack.py\n",
        "%cd ../../"
      ]
    },
    {
      "cell_type": "markdown",
      "metadata": {},
      "source": [
        "## Run: Closest Pair (reads ./BruteForce/ClosestPair/TestFiles/*.txt)"
      ]
    },
    {
      "cell_type": "code",
      "metadata": {
        "editable": true,
        "deletable": true
      },
      "execution_count": null,
      "outputs": [],
      "source": [
        "%cd BruteForce/ClosestPair\n",
        "!python ClosestPair.py\n",
        "%cd ../../"
      ]
    },
    {
      "cell_type": "markdown",
      "metadata": {},
      "source": [
        "## Run: String Matching (reads ./BruteForce/StringMatching/TestFiles/*.txt or uses defaults)"
      ]
    },
    {
      "cell_type": "code",
      "metadata": {
        "editable": true,
        "deletable": true
      },
      "execution_count": null,
      "outputs": [],
      "source": [
        "%cd BruteForce/StringMatching\n",
        "!python StringMatching.py\n",
        "%cd ../../"
      ]
    }
  ],
  "metadata": {
    "kernelspec": {
      "display_name": "Python 3",
      "language": "python",
      "name": "python3"
    },
    "language_info": {
      "name": "python",
      "pygments_lexer": "ipython3"
    }
  },
  "nbformat": 4,
  "nbformat_minor": 5
}